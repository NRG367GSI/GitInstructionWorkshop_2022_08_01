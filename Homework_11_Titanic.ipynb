{
  "nbformat": 4,
  "nbformat_minor": 0,
  "metadata": {
    "colab": {
      "provenance": [],
      "mount_file_id": "1uuXiRYBmcIOVI3zcAcQM8U-x97dqNPNT",
      "authorship_tag": "ABX9TyPRuID4SVeL1cd3Wk1pgkF9",
      "include_colab_link": true
    },
    "kernelspec": {
      "name": "python3",
      "display_name": "Python 3"
    },
    "language_info": {
      "name": "python"
    }
  },
  "cells": [
    {
      "cell_type": "markdown",
      "metadata": {
        "id": "view-in-github",
        "colab_type": "text"
      },
      "source": [
        "<a href=\"https://colab.research.google.com/github/NRG367GSI/GitInstructionWorkshop_2022_08_01/blob/main/Homework_11_Titanic.ipynb\" target=\"_parent\"><img src=\"https://colab.research.google.com/assets/colab-badge.svg\" alt=\"Open In Colab\"/></a>"
      ]
    },
    {
      "cell_type": "code",
      "execution_count": 2,
      "metadata": {
        "id": "bTBUe0Qjprlf"
      },
      "outputs": [],
      "source": [
        "# Библиотека для работы с табличными данными\n",
        "import pandas as pd"
      ]
    },
    {
      "cell_type": "code",
      "source": [
        "# Прочтем файл .csv с помощью библиотеки pandas\n",
        "df = pd.read_csv('/content/drive/MyDrive/titanic/train.csv') # загрузим данные Титаника в объект Pandas DataFrame\n",
        "tsd = pd.read_csv('/content/drive/MyDrive/titanic/test.csv') # загрузим тестовые данные "
      ],
      "metadata": {
        "id": "gX6581QVqMx1"
      },
      "execution_count": 3,
      "outputs": []
    },
    {
      "cell_type": "code",
      "source": [
        "# Посмотреть первые 5 строк \n",
        "df.head(5) # train"
      ],
      "metadata": {
        "colab": {
          "base_uri": "https://localhost:8080/",
          "height": 206
        },
        "id": "y8PAJH5Aq6Di",
        "outputId": "a4901233-a58c-46c4-8772-cc6551d74003"
      },
      "execution_count": 4,
      "outputs": [
        {
          "output_type": "execute_result",
          "data": {
            "text/plain": [
              "   PassengerId  Survived  Pclass  \\\n",
              "0            1         0       3   \n",
              "1            2         1       1   \n",
              "2            3         1       3   \n",
              "3            4         1       1   \n",
              "4            5         0       3   \n",
              "\n",
              "                                                Name     Sex   Age  SibSp  \\\n",
              "0                            Braund, Mr. Owen Harris    male  22.0      1   \n",
              "1  Cumings, Mrs. John Bradley (Florence Briggs Th...  female  38.0      1   \n",
              "2                             Heikkinen, Miss. Laina  female  26.0      0   \n",
              "3       Futrelle, Mrs. Jacques Heath (Lily May Peel)  female  35.0      1   \n",
              "4                           Allen, Mr. William Henry    male  35.0      0   \n",
              "\n",
              "   Parch            Ticket     Fare Cabin Embarked  \n",
              "0      0         A/5 21171   7.2500   NaN        S  \n",
              "1      0          PC 17599  71.2833   C85        C  \n",
              "2      0  STON/O2. 3101282   7.9250   NaN        S  \n",
              "3      0            113803  53.1000  C123        S  \n",
              "4      0            373450   8.0500   NaN        S  "
            ],
            "text/html": [
              "\n",
              "  <div id=\"df-36444b66-f669-4d76-8343-ede835154acf\">\n",
              "    <div class=\"colab-df-container\">\n",
              "      <div>\n",
              "<style scoped>\n",
              "    .dataframe tbody tr th:only-of-type {\n",
              "        vertical-align: middle;\n",
              "    }\n",
              "\n",
              "    .dataframe tbody tr th {\n",
              "        vertical-align: top;\n",
              "    }\n",
              "\n",
              "    .dataframe thead th {\n",
              "        text-align: right;\n",
              "    }\n",
              "</style>\n",
              "<table border=\"1\" class=\"dataframe\">\n",
              "  <thead>\n",
              "    <tr style=\"text-align: right;\">\n",
              "      <th></th>\n",
              "      <th>PassengerId</th>\n",
              "      <th>Survived</th>\n",
              "      <th>Pclass</th>\n",
              "      <th>Name</th>\n",
              "      <th>Sex</th>\n",
              "      <th>Age</th>\n",
              "      <th>SibSp</th>\n",
              "      <th>Parch</th>\n",
              "      <th>Ticket</th>\n",
              "      <th>Fare</th>\n",
              "      <th>Cabin</th>\n",
              "      <th>Embarked</th>\n",
              "    </tr>\n",
              "  </thead>\n",
              "  <tbody>\n",
              "    <tr>\n",
              "      <th>0</th>\n",
              "      <td>1</td>\n",
              "      <td>0</td>\n",
              "      <td>3</td>\n",
              "      <td>Braund, Mr. Owen Harris</td>\n",
              "      <td>male</td>\n",
              "      <td>22.0</td>\n",
              "      <td>1</td>\n",
              "      <td>0</td>\n",
              "      <td>A/5 21171</td>\n",
              "      <td>7.2500</td>\n",
              "      <td>NaN</td>\n",
              "      <td>S</td>\n",
              "    </tr>\n",
              "    <tr>\n",
              "      <th>1</th>\n",
              "      <td>2</td>\n",
              "      <td>1</td>\n",
              "      <td>1</td>\n",
              "      <td>Cumings, Mrs. John Bradley (Florence Briggs Th...</td>\n",
              "      <td>female</td>\n",
              "      <td>38.0</td>\n",
              "      <td>1</td>\n",
              "      <td>0</td>\n",
              "      <td>PC 17599</td>\n",
              "      <td>71.2833</td>\n",
              "      <td>C85</td>\n",
              "      <td>C</td>\n",
              "    </tr>\n",
              "    <tr>\n",
              "      <th>2</th>\n",
              "      <td>3</td>\n",
              "      <td>1</td>\n",
              "      <td>3</td>\n",
              "      <td>Heikkinen, Miss. Laina</td>\n",
              "      <td>female</td>\n",
              "      <td>26.0</td>\n",
              "      <td>0</td>\n",
              "      <td>0</td>\n",
              "      <td>STON/O2. 3101282</td>\n",
              "      <td>7.9250</td>\n",
              "      <td>NaN</td>\n",
              "      <td>S</td>\n",
              "    </tr>\n",
              "    <tr>\n",
              "      <th>3</th>\n",
              "      <td>4</td>\n",
              "      <td>1</td>\n",
              "      <td>1</td>\n",
              "      <td>Futrelle, Mrs. Jacques Heath (Lily May Peel)</td>\n",
              "      <td>female</td>\n",
              "      <td>35.0</td>\n",
              "      <td>1</td>\n",
              "      <td>0</td>\n",
              "      <td>113803</td>\n",
              "      <td>53.1000</td>\n",
              "      <td>C123</td>\n",
              "      <td>S</td>\n",
              "    </tr>\n",
              "    <tr>\n",
              "      <th>4</th>\n",
              "      <td>5</td>\n",
              "      <td>0</td>\n",
              "      <td>3</td>\n",
              "      <td>Allen, Mr. William Henry</td>\n",
              "      <td>male</td>\n",
              "      <td>35.0</td>\n",
              "      <td>0</td>\n",
              "      <td>0</td>\n",
              "      <td>373450</td>\n",
              "      <td>8.0500</td>\n",
              "      <td>NaN</td>\n",
              "      <td>S</td>\n",
              "    </tr>\n",
              "  </tbody>\n",
              "</table>\n",
              "</div>\n",
              "      <button class=\"colab-df-convert\" onclick=\"convertToInteractive('df-36444b66-f669-4d76-8343-ede835154acf')\"\n",
              "              title=\"Convert this dataframe to an interactive table.\"\n",
              "              style=\"display:none;\">\n",
              "        \n",
              "  <svg xmlns=\"http://www.w3.org/2000/svg\" height=\"24px\"viewBox=\"0 0 24 24\"\n",
              "       width=\"24px\">\n",
              "    <path d=\"M0 0h24v24H0V0z\" fill=\"none\"/>\n",
              "    <path d=\"M18.56 5.44l.94 2.06.94-2.06 2.06-.94-2.06-.94-.94-2.06-.94 2.06-2.06.94zm-11 1L8.5 8.5l.94-2.06 2.06-.94-2.06-.94L8.5 2.5l-.94 2.06-2.06.94zm10 10l.94 2.06.94-2.06 2.06-.94-2.06-.94-.94-2.06-.94 2.06-2.06.94z\"/><path d=\"M17.41 7.96l-1.37-1.37c-.4-.4-.92-.59-1.43-.59-.52 0-1.04.2-1.43.59L10.3 9.45l-7.72 7.72c-.78.78-.78 2.05 0 2.83L4 21.41c.39.39.9.59 1.41.59.51 0 1.02-.2 1.41-.59l7.78-7.78 2.81-2.81c.8-.78.8-2.07 0-2.86zM5.41 20L4 18.59l7.72-7.72 1.47 1.35L5.41 20z\"/>\n",
              "  </svg>\n",
              "      </button>\n",
              "      \n",
              "  <style>\n",
              "    .colab-df-container {\n",
              "      display:flex;\n",
              "      flex-wrap:wrap;\n",
              "      gap: 12px;\n",
              "    }\n",
              "\n",
              "    .colab-df-convert {\n",
              "      background-color: #E8F0FE;\n",
              "      border: none;\n",
              "      border-radius: 50%;\n",
              "      cursor: pointer;\n",
              "      display: none;\n",
              "      fill: #1967D2;\n",
              "      height: 32px;\n",
              "      padding: 0 0 0 0;\n",
              "      width: 32px;\n",
              "    }\n",
              "\n",
              "    .colab-df-convert:hover {\n",
              "      background-color: #E2EBFA;\n",
              "      box-shadow: 0px 1px 2px rgba(60, 64, 67, 0.3), 0px 1px 3px 1px rgba(60, 64, 67, 0.15);\n",
              "      fill: #174EA6;\n",
              "    }\n",
              "\n",
              "    [theme=dark] .colab-df-convert {\n",
              "      background-color: #3B4455;\n",
              "      fill: #D2E3FC;\n",
              "    }\n",
              "\n",
              "    [theme=dark] .colab-df-convert:hover {\n",
              "      background-color: #434B5C;\n",
              "      box-shadow: 0px 1px 3px 1px rgba(0, 0, 0, 0.15);\n",
              "      filter: drop-shadow(0px 1px 2px rgba(0, 0, 0, 0.3));\n",
              "      fill: #FFFFFF;\n",
              "    }\n",
              "  </style>\n",
              "\n",
              "      <script>\n",
              "        const buttonEl =\n",
              "          document.querySelector('#df-36444b66-f669-4d76-8343-ede835154acf button.colab-df-convert');\n",
              "        buttonEl.style.display =\n",
              "          google.colab.kernel.accessAllowed ? 'block' : 'none';\n",
              "\n",
              "        async function convertToInteractive(key) {\n",
              "          const element = document.querySelector('#df-36444b66-f669-4d76-8343-ede835154acf');\n",
              "          const dataTable =\n",
              "            await google.colab.kernel.invokeFunction('convertToInteractive',\n",
              "                                                     [key], {});\n",
              "          if (!dataTable) return;\n",
              "\n",
              "          const docLinkHtml = 'Like what you see? Visit the ' +\n",
              "            '<a target=\"_blank\" href=https://colab.research.google.com/notebooks/data_table.ipynb>data table notebook</a>'\n",
              "            + ' to learn more about interactive tables.';\n",
              "          element.innerHTML = '';\n",
              "          dataTable['output_type'] = 'display_data';\n",
              "          await google.colab.output.renderOutput(dataTable, element);\n",
              "          const docLink = document.createElement('div');\n",
              "          docLink.innerHTML = docLinkHtml;\n",
              "          element.appendChild(docLink);\n",
              "        }\n",
              "      </script>\n",
              "    </div>\n",
              "  </div>\n",
              "  "
            ]
          },
          "metadata": {},
          "execution_count": 4
        }
      ]
    },
    {
      "cell_type": "code",
      "source": [
        "tsd.head(5) # test"
      ],
      "metadata": {
        "colab": {
          "base_uri": "https://localhost:8080/",
          "height": 206
        },
        "id": "o1-AjxJ8hOo3",
        "outputId": "0d2e8b89-3112-4d9d-e5c5-7d98fcc386bf"
      },
      "execution_count": 5,
      "outputs": [
        {
          "output_type": "execute_result",
          "data": {
            "text/plain": [
              "   PassengerId  Pclass                                          Name     Sex  \\\n",
              "0          892       3                              Kelly, Mr. James    male   \n",
              "1          893       3              Wilkes, Mrs. James (Ellen Needs)  female   \n",
              "2          894       2                     Myles, Mr. Thomas Francis    male   \n",
              "3          895       3                              Wirz, Mr. Albert    male   \n",
              "4          896       3  Hirvonen, Mrs. Alexander (Helga E Lindqvist)  female   \n",
              "\n",
              "    Age  SibSp  Parch   Ticket     Fare Cabin Embarked  \n",
              "0  34.5      0      0   330911   7.8292   NaN        Q  \n",
              "1  47.0      1      0   363272   7.0000   NaN        S  \n",
              "2  62.0      0      0   240276   9.6875   NaN        Q  \n",
              "3  27.0      0      0   315154   8.6625   NaN        S  \n",
              "4  22.0      1      1  3101298  12.2875   NaN        S  "
            ],
            "text/html": [
              "\n",
              "  <div id=\"df-26c3c6d9-73c6-44ac-93d9-e1fda9da4d66\">\n",
              "    <div class=\"colab-df-container\">\n",
              "      <div>\n",
              "<style scoped>\n",
              "    .dataframe tbody tr th:only-of-type {\n",
              "        vertical-align: middle;\n",
              "    }\n",
              "\n",
              "    .dataframe tbody tr th {\n",
              "        vertical-align: top;\n",
              "    }\n",
              "\n",
              "    .dataframe thead th {\n",
              "        text-align: right;\n",
              "    }\n",
              "</style>\n",
              "<table border=\"1\" class=\"dataframe\">\n",
              "  <thead>\n",
              "    <tr style=\"text-align: right;\">\n",
              "      <th></th>\n",
              "      <th>PassengerId</th>\n",
              "      <th>Pclass</th>\n",
              "      <th>Name</th>\n",
              "      <th>Sex</th>\n",
              "      <th>Age</th>\n",
              "      <th>SibSp</th>\n",
              "      <th>Parch</th>\n",
              "      <th>Ticket</th>\n",
              "      <th>Fare</th>\n",
              "      <th>Cabin</th>\n",
              "      <th>Embarked</th>\n",
              "    </tr>\n",
              "  </thead>\n",
              "  <tbody>\n",
              "    <tr>\n",
              "      <th>0</th>\n",
              "      <td>892</td>\n",
              "      <td>3</td>\n",
              "      <td>Kelly, Mr. James</td>\n",
              "      <td>male</td>\n",
              "      <td>34.5</td>\n",
              "      <td>0</td>\n",
              "      <td>0</td>\n",
              "      <td>330911</td>\n",
              "      <td>7.8292</td>\n",
              "      <td>NaN</td>\n",
              "      <td>Q</td>\n",
              "    </tr>\n",
              "    <tr>\n",
              "      <th>1</th>\n",
              "      <td>893</td>\n",
              "      <td>3</td>\n",
              "      <td>Wilkes, Mrs. James (Ellen Needs)</td>\n",
              "      <td>female</td>\n",
              "      <td>47.0</td>\n",
              "      <td>1</td>\n",
              "      <td>0</td>\n",
              "      <td>363272</td>\n",
              "      <td>7.0000</td>\n",
              "      <td>NaN</td>\n",
              "      <td>S</td>\n",
              "    </tr>\n",
              "    <tr>\n",
              "      <th>2</th>\n",
              "      <td>894</td>\n",
              "      <td>2</td>\n",
              "      <td>Myles, Mr. Thomas Francis</td>\n",
              "      <td>male</td>\n",
              "      <td>62.0</td>\n",
              "      <td>0</td>\n",
              "      <td>0</td>\n",
              "      <td>240276</td>\n",
              "      <td>9.6875</td>\n",
              "      <td>NaN</td>\n",
              "      <td>Q</td>\n",
              "    </tr>\n",
              "    <tr>\n",
              "      <th>3</th>\n",
              "      <td>895</td>\n",
              "      <td>3</td>\n",
              "      <td>Wirz, Mr. Albert</td>\n",
              "      <td>male</td>\n",
              "      <td>27.0</td>\n",
              "      <td>0</td>\n",
              "      <td>0</td>\n",
              "      <td>315154</td>\n",
              "      <td>8.6625</td>\n",
              "      <td>NaN</td>\n",
              "      <td>S</td>\n",
              "    </tr>\n",
              "    <tr>\n",
              "      <th>4</th>\n",
              "      <td>896</td>\n",
              "      <td>3</td>\n",
              "      <td>Hirvonen, Mrs. Alexander (Helga E Lindqvist)</td>\n",
              "      <td>female</td>\n",
              "      <td>22.0</td>\n",
              "      <td>1</td>\n",
              "      <td>1</td>\n",
              "      <td>3101298</td>\n",
              "      <td>12.2875</td>\n",
              "      <td>NaN</td>\n",
              "      <td>S</td>\n",
              "    </tr>\n",
              "  </tbody>\n",
              "</table>\n",
              "</div>\n",
              "      <button class=\"colab-df-convert\" onclick=\"convertToInteractive('df-26c3c6d9-73c6-44ac-93d9-e1fda9da4d66')\"\n",
              "              title=\"Convert this dataframe to an interactive table.\"\n",
              "              style=\"display:none;\">\n",
              "        \n",
              "  <svg xmlns=\"http://www.w3.org/2000/svg\" height=\"24px\"viewBox=\"0 0 24 24\"\n",
              "       width=\"24px\">\n",
              "    <path d=\"M0 0h24v24H0V0z\" fill=\"none\"/>\n",
              "    <path d=\"M18.56 5.44l.94 2.06.94-2.06 2.06-.94-2.06-.94-.94-2.06-.94 2.06-2.06.94zm-11 1L8.5 8.5l.94-2.06 2.06-.94-2.06-.94L8.5 2.5l-.94 2.06-2.06.94zm10 10l.94 2.06.94-2.06 2.06-.94-2.06-.94-.94-2.06-.94 2.06-2.06.94z\"/><path d=\"M17.41 7.96l-1.37-1.37c-.4-.4-.92-.59-1.43-.59-.52 0-1.04.2-1.43.59L10.3 9.45l-7.72 7.72c-.78.78-.78 2.05 0 2.83L4 21.41c.39.39.9.59 1.41.59.51 0 1.02-.2 1.41-.59l7.78-7.78 2.81-2.81c.8-.78.8-2.07 0-2.86zM5.41 20L4 18.59l7.72-7.72 1.47 1.35L5.41 20z\"/>\n",
              "  </svg>\n",
              "      </button>\n",
              "      \n",
              "  <style>\n",
              "    .colab-df-container {\n",
              "      display:flex;\n",
              "      flex-wrap:wrap;\n",
              "      gap: 12px;\n",
              "    }\n",
              "\n",
              "    .colab-df-convert {\n",
              "      background-color: #E8F0FE;\n",
              "      border: none;\n",
              "      border-radius: 50%;\n",
              "      cursor: pointer;\n",
              "      display: none;\n",
              "      fill: #1967D2;\n",
              "      height: 32px;\n",
              "      padding: 0 0 0 0;\n",
              "      width: 32px;\n",
              "    }\n",
              "\n",
              "    .colab-df-convert:hover {\n",
              "      background-color: #E2EBFA;\n",
              "      box-shadow: 0px 1px 2px rgba(60, 64, 67, 0.3), 0px 1px 3px 1px rgba(60, 64, 67, 0.15);\n",
              "      fill: #174EA6;\n",
              "    }\n",
              "\n",
              "    [theme=dark] .colab-df-convert {\n",
              "      background-color: #3B4455;\n",
              "      fill: #D2E3FC;\n",
              "    }\n",
              "\n",
              "    [theme=dark] .colab-df-convert:hover {\n",
              "      background-color: #434B5C;\n",
              "      box-shadow: 0px 1px 3px 1px rgba(0, 0, 0, 0.15);\n",
              "      filter: drop-shadow(0px 1px 2px rgba(0, 0, 0, 0.3));\n",
              "      fill: #FFFFFF;\n",
              "    }\n",
              "  </style>\n",
              "\n",
              "      <script>\n",
              "        const buttonEl =\n",
              "          document.querySelector('#df-26c3c6d9-73c6-44ac-93d9-e1fda9da4d66 button.colab-df-convert');\n",
              "        buttonEl.style.display =\n",
              "          google.colab.kernel.accessAllowed ? 'block' : 'none';\n",
              "\n",
              "        async function convertToInteractive(key) {\n",
              "          const element = document.querySelector('#df-26c3c6d9-73c6-44ac-93d9-e1fda9da4d66');\n",
              "          const dataTable =\n",
              "            await google.colab.kernel.invokeFunction('convertToInteractive',\n",
              "                                                     [key], {});\n",
              "          if (!dataTable) return;\n",
              "\n",
              "          const docLinkHtml = 'Like what you see? Visit the ' +\n",
              "            '<a target=\"_blank\" href=https://colab.research.google.com/notebooks/data_table.ipynb>data table notebook</a>'\n",
              "            + ' to learn more about interactive tables.';\n",
              "          element.innerHTML = '';\n",
              "          dataTable['output_type'] = 'display_data';\n",
              "          await google.colab.output.renderOutput(dataTable, element);\n",
              "          const docLink = document.createElement('div');\n",
              "          docLink.innerHTML = docLinkHtml;\n",
              "          element.appendChild(docLink);\n",
              "        }\n",
              "      </script>\n",
              "    </div>\n",
              "  </div>\n",
              "  "
            ]
          },
          "metadata": {},
          "execution_count": 5
        }
      ]
    },
    {
      "cell_type": "code",
      "source": [
        "td = pd.concat([df, tsd], ignore_index=True, sort = False) # объеденим данные из набора train и test"
      ],
      "metadata": {
        "id": "96p8YS9OhpIj"
      },
      "execution_count": 6,
      "outputs": []
    },
    {
      "cell_type": "code",
      "source": [
        "td.head(5)"
      ],
      "metadata": {
        "colab": {
          "base_uri": "https://localhost:8080/",
          "height": 206
        },
        "id": "1psEFexwhsFa",
        "outputId": "fd166732-5689-4974-cc3c-f93a6c745dfc"
      },
      "execution_count": 7,
      "outputs": [
        {
          "output_type": "execute_result",
          "data": {
            "text/plain": [
              "   PassengerId  Survived  Pclass  \\\n",
              "0            1       0.0       3   \n",
              "1            2       1.0       1   \n",
              "2            3       1.0       3   \n",
              "3            4       1.0       1   \n",
              "4            5       0.0       3   \n",
              "\n",
              "                                                Name     Sex   Age  SibSp  \\\n",
              "0                            Braund, Mr. Owen Harris    male  22.0      1   \n",
              "1  Cumings, Mrs. John Bradley (Florence Briggs Th...  female  38.0      1   \n",
              "2                             Heikkinen, Miss. Laina  female  26.0      0   \n",
              "3       Futrelle, Mrs. Jacques Heath (Lily May Peel)  female  35.0      1   \n",
              "4                           Allen, Mr. William Henry    male  35.0      0   \n",
              "\n",
              "   Parch            Ticket     Fare Cabin Embarked  \n",
              "0      0         A/5 21171   7.2500   NaN        S  \n",
              "1      0          PC 17599  71.2833   C85        C  \n",
              "2      0  STON/O2. 3101282   7.9250   NaN        S  \n",
              "3      0            113803  53.1000  C123        S  \n",
              "4      0            373450   8.0500   NaN        S  "
            ],
            "text/html": [
              "\n",
              "  <div id=\"df-18330360-567b-4c1a-b486-f0fc52e36847\">\n",
              "    <div class=\"colab-df-container\">\n",
              "      <div>\n",
              "<style scoped>\n",
              "    .dataframe tbody tr th:only-of-type {\n",
              "        vertical-align: middle;\n",
              "    }\n",
              "\n",
              "    .dataframe tbody tr th {\n",
              "        vertical-align: top;\n",
              "    }\n",
              "\n",
              "    .dataframe thead th {\n",
              "        text-align: right;\n",
              "    }\n",
              "</style>\n",
              "<table border=\"1\" class=\"dataframe\">\n",
              "  <thead>\n",
              "    <tr style=\"text-align: right;\">\n",
              "      <th></th>\n",
              "      <th>PassengerId</th>\n",
              "      <th>Survived</th>\n",
              "      <th>Pclass</th>\n",
              "      <th>Name</th>\n",
              "      <th>Sex</th>\n",
              "      <th>Age</th>\n",
              "      <th>SibSp</th>\n",
              "      <th>Parch</th>\n",
              "      <th>Ticket</th>\n",
              "      <th>Fare</th>\n",
              "      <th>Cabin</th>\n",
              "      <th>Embarked</th>\n",
              "    </tr>\n",
              "  </thead>\n",
              "  <tbody>\n",
              "    <tr>\n",
              "      <th>0</th>\n",
              "      <td>1</td>\n",
              "      <td>0.0</td>\n",
              "      <td>3</td>\n",
              "      <td>Braund, Mr. Owen Harris</td>\n",
              "      <td>male</td>\n",
              "      <td>22.0</td>\n",
              "      <td>1</td>\n",
              "      <td>0</td>\n",
              "      <td>A/5 21171</td>\n",
              "      <td>7.2500</td>\n",
              "      <td>NaN</td>\n",
              "      <td>S</td>\n",
              "    </tr>\n",
              "    <tr>\n",
              "      <th>1</th>\n",
              "      <td>2</td>\n",
              "      <td>1.0</td>\n",
              "      <td>1</td>\n",
              "      <td>Cumings, Mrs. John Bradley (Florence Briggs Th...</td>\n",
              "      <td>female</td>\n",
              "      <td>38.0</td>\n",
              "      <td>1</td>\n",
              "      <td>0</td>\n",
              "      <td>PC 17599</td>\n",
              "      <td>71.2833</td>\n",
              "      <td>C85</td>\n",
              "      <td>C</td>\n",
              "    </tr>\n",
              "    <tr>\n",
              "      <th>2</th>\n",
              "      <td>3</td>\n",
              "      <td>1.0</td>\n",
              "      <td>3</td>\n",
              "      <td>Heikkinen, Miss. Laina</td>\n",
              "      <td>female</td>\n",
              "      <td>26.0</td>\n",
              "      <td>0</td>\n",
              "      <td>0</td>\n",
              "      <td>STON/O2. 3101282</td>\n",
              "      <td>7.9250</td>\n",
              "      <td>NaN</td>\n",
              "      <td>S</td>\n",
              "    </tr>\n",
              "    <tr>\n",
              "      <th>3</th>\n",
              "      <td>4</td>\n",
              "      <td>1.0</td>\n",
              "      <td>1</td>\n",
              "      <td>Futrelle, Mrs. Jacques Heath (Lily May Peel)</td>\n",
              "      <td>female</td>\n",
              "      <td>35.0</td>\n",
              "      <td>1</td>\n",
              "      <td>0</td>\n",
              "      <td>113803</td>\n",
              "      <td>53.1000</td>\n",
              "      <td>C123</td>\n",
              "      <td>S</td>\n",
              "    </tr>\n",
              "    <tr>\n",
              "      <th>4</th>\n",
              "      <td>5</td>\n",
              "      <td>0.0</td>\n",
              "      <td>3</td>\n",
              "      <td>Allen, Mr. William Henry</td>\n",
              "      <td>male</td>\n",
              "      <td>35.0</td>\n",
              "      <td>0</td>\n",
              "      <td>0</td>\n",
              "      <td>373450</td>\n",
              "      <td>8.0500</td>\n",
              "      <td>NaN</td>\n",
              "      <td>S</td>\n",
              "    </tr>\n",
              "  </tbody>\n",
              "</table>\n",
              "</div>\n",
              "      <button class=\"colab-df-convert\" onclick=\"convertToInteractive('df-18330360-567b-4c1a-b486-f0fc52e36847')\"\n",
              "              title=\"Convert this dataframe to an interactive table.\"\n",
              "              style=\"display:none;\">\n",
              "        \n",
              "  <svg xmlns=\"http://www.w3.org/2000/svg\" height=\"24px\"viewBox=\"0 0 24 24\"\n",
              "       width=\"24px\">\n",
              "    <path d=\"M0 0h24v24H0V0z\" fill=\"none\"/>\n",
              "    <path d=\"M18.56 5.44l.94 2.06.94-2.06 2.06-.94-2.06-.94-.94-2.06-.94 2.06-2.06.94zm-11 1L8.5 8.5l.94-2.06 2.06-.94-2.06-.94L8.5 2.5l-.94 2.06-2.06.94zm10 10l.94 2.06.94-2.06 2.06-.94-2.06-.94-.94-2.06-.94 2.06-2.06.94z\"/><path d=\"M17.41 7.96l-1.37-1.37c-.4-.4-.92-.59-1.43-.59-.52 0-1.04.2-1.43.59L10.3 9.45l-7.72 7.72c-.78.78-.78 2.05 0 2.83L4 21.41c.39.39.9.59 1.41.59.51 0 1.02-.2 1.41-.59l7.78-7.78 2.81-2.81c.8-.78.8-2.07 0-2.86zM5.41 20L4 18.59l7.72-7.72 1.47 1.35L5.41 20z\"/>\n",
              "  </svg>\n",
              "      </button>\n",
              "      \n",
              "  <style>\n",
              "    .colab-df-container {\n",
              "      display:flex;\n",
              "      flex-wrap:wrap;\n",
              "      gap: 12px;\n",
              "    }\n",
              "\n",
              "    .colab-df-convert {\n",
              "      background-color: #E8F0FE;\n",
              "      border: none;\n",
              "      border-radius: 50%;\n",
              "      cursor: pointer;\n",
              "      display: none;\n",
              "      fill: #1967D2;\n",
              "      height: 32px;\n",
              "      padding: 0 0 0 0;\n",
              "      width: 32px;\n",
              "    }\n",
              "\n",
              "    .colab-df-convert:hover {\n",
              "      background-color: #E2EBFA;\n",
              "      box-shadow: 0px 1px 2px rgba(60, 64, 67, 0.3), 0px 1px 3px 1px rgba(60, 64, 67, 0.15);\n",
              "      fill: #174EA6;\n",
              "    }\n",
              "\n",
              "    [theme=dark] .colab-df-convert {\n",
              "      background-color: #3B4455;\n",
              "      fill: #D2E3FC;\n",
              "    }\n",
              "\n",
              "    [theme=dark] .colab-df-convert:hover {\n",
              "      background-color: #434B5C;\n",
              "      box-shadow: 0px 1px 3px 1px rgba(0, 0, 0, 0.15);\n",
              "      filter: drop-shadow(0px 1px 2px rgba(0, 0, 0, 0.3));\n",
              "      fill: #FFFFFF;\n",
              "    }\n",
              "  </style>\n",
              "\n",
              "      <script>\n",
              "        const buttonEl =\n",
              "          document.querySelector('#df-18330360-567b-4c1a-b486-f0fc52e36847 button.colab-df-convert');\n",
              "        buttonEl.style.display =\n",
              "          google.colab.kernel.accessAllowed ? 'block' : 'none';\n",
              "\n",
              "        async function convertToInteractive(key) {\n",
              "          const element = document.querySelector('#df-18330360-567b-4c1a-b486-f0fc52e36847');\n",
              "          const dataTable =\n",
              "            await google.colab.kernel.invokeFunction('convertToInteractive',\n",
              "                                                     [key], {});\n",
              "          if (!dataTable) return;\n",
              "\n",
              "          const docLinkHtml = 'Like what you see? Visit the ' +\n",
              "            '<a target=\"_blank\" href=https://colab.research.google.com/notebooks/data_table.ipynb>data table notebook</a>'\n",
              "            + ' to learn more about interactive tables.';\n",
              "          element.innerHTML = '';\n",
              "          dataTable['output_type'] = 'display_data';\n",
              "          await google.colab.output.renderOutput(dataTable, element);\n",
              "          const docLink = document.createElement('div');\n",
              "          docLink.innerHTML = docLinkHtml;\n",
              "          element.appendChild(docLink);\n",
              "        }\n",
              "      </script>\n",
              "    </div>\n",
              "  </div>\n",
              "  "
            ]
          },
          "metadata": {},
          "execution_count": 7
        }
      ]
    },
    {
      "cell_type": "code",
      "source": [
        "df.shape, tsd.shape, td.shape # В тестовом наборе на 1 колонку меньше отсутствует Survived т.е. выжившие, потому что в тестовом наборе только выжившие."
      ],
      "metadata": {
        "colab": {
          "base_uri": "https://localhost:8080/"
        },
        "id": "zuDapuwCi85k",
        "outputId": "53a92be6-1986-41ad-930d-351d8d4b407b"
      },
      "execution_count": 8,
      "outputs": [
        {
          "output_type": "execute_result",
          "data": {
            "text/plain": [
              "((891, 12), (418, 11), (1309, 12))"
            ]
          },
          "metadata": {},
          "execution_count": 8
        }
      ]
    },
    {
      "cell_type": "code",
      "source": [
        "df.isnull().sum() # Колличество нулевых значений в столбцах"
      ],
      "metadata": {
        "colab": {
          "base_uri": "https://localhost:8080/"
        },
        "id": "_YWq8D1NkMji",
        "outputId": "dd677489-e490-4ee5-a0e3-51bc0455c5a6"
      },
      "execution_count": 9,
      "outputs": [
        {
          "output_type": "execute_result",
          "data": {
            "text/plain": [
              "PassengerId      0\n",
              "Survived         0\n",
              "Pclass           0\n",
              "Name             0\n",
              "Sex              0\n",
              "Age            177\n",
              "SibSp            0\n",
              "Parch            0\n",
              "Ticket           0\n",
              "Fare             0\n",
              "Cabin          687\n",
              "Embarked         2\n",
              "dtype: int64"
            ]
          },
          "metadata": {},
          "execution_count": 9
        }
      ]
    },
    {
      "cell_type": "markdown",
      "source": [
        "* PassengerId - идентификатор пассажира\n",
        "* Survived - Выжил\n",
        "* Pclass - Класс\n",
        "* Name - Имя\n",
        "* Sex - пол\n",
        "* Age - возрост\n",
        "* SibSp - число родственников на борту\n",
        "* Parch - Количество родителей/детей на борту\n",
        "* Ticket - Номер билета\n",
        "* Fare - Пассажирский тариф\n",
        "* Cabin - Кабина\n",
        "* Embarked - Посадка - порт посадки (C = Шербур; Q = Квинстаун; S = Саутгемптон)"
      ],
      "metadata": {
        "id": "XM5yNVXYpj-3"
      }
    },
    {
      "cell_type": "code",
      "source": [
        "df.columns # список названий колонок таблици"
      ],
      "metadata": {
        "colab": {
          "base_uri": "https://localhost:8080/"
        },
        "id": "8LU3dD17krjJ",
        "outputId": "345da4a6-f2df-4349-be38-bc5fb4ac6959"
      },
      "execution_count": 10,
      "outputs": [
        {
          "output_type": "execute_result",
          "data": {
            "text/plain": [
              "Index(['PassengerId', 'Survived', 'Pclass', 'Name', 'Sex', 'Age', 'SibSp',\n",
              "       'Parch', 'Ticket', 'Fare', 'Cabin', 'Embarked'],\n",
              "      dtype='object')"
            ]
          },
          "metadata": {},
          "execution_count": 10
        }
      ]
    },
    {
      "cell_type": "code",
      "source": [
        "df.describe() # Выводим столбци с числовыми значениями"
      ],
      "metadata": {
        "colab": {
          "base_uri": "https://localhost:8080/",
          "height": 300
        },
        "id": "ZEgvVHUIsfUU",
        "outputId": "a5f5e74c-9fe9-4bd3-f78b-b0d681263c3d"
      },
      "execution_count": 11,
      "outputs": [
        {
          "output_type": "execute_result",
          "data": {
            "text/plain": [
              "       PassengerId    Survived      Pclass         Age       SibSp  \\\n",
              "count   891.000000  891.000000  891.000000  714.000000  891.000000   \n",
              "mean    446.000000    0.383838    2.308642   29.699118    0.523008   \n",
              "std     257.353842    0.486592    0.836071   14.526497    1.102743   \n",
              "min       1.000000    0.000000    1.000000    0.420000    0.000000   \n",
              "25%     223.500000    0.000000    2.000000   20.125000    0.000000   \n",
              "50%     446.000000    0.000000    3.000000   28.000000    0.000000   \n",
              "75%     668.500000    1.000000    3.000000   38.000000    1.000000   \n",
              "max     891.000000    1.000000    3.000000   80.000000    8.000000   \n",
              "\n",
              "            Parch        Fare  \n",
              "count  891.000000  891.000000  \n",
              "mean     0.381594   32.204208  \n",
              "std      0.806057   49.693429  \n",
              "min      0.000000    0.000000  \n",
              "25%      0.000000    7.910400  \n",
              "50%      0.000000   14.454200  \n",
              "75%      0.000000   31.000000  \n",
              "max      6.000000  512.329200  "
            ],
            "text/html": [
              "\n",
              "  <div id=\"df-a0752e23-707d-4376-bc7e-ea608ed8b1ef\">\n",
              "    <div class=\"colab-df-container\">\n",
              "      <div>\n",
              "<style scoped>\n",
              "    .dataframe tbody tr th:only-of-type {\n",
              "        vertical-align: middle;\n",
              "    }\n",
              "\n",
              "    .dataframe tbody tr th {\n",
              "        vertical-align: top;\n",
              "    }\n",
              "\n",
              "    .dataframe thead th {\n",
              "        text-align: right;\n",
              "    }\n",
              "</style>\n",
              "<table border=\"1\" class=\"dataframe\">\n",
              "  <thead>\n",
              "    <tr style=\"text-align: right;\">\n",
              "      <th></th>\n",
              "      <th>PassengerId</th>\n",
              "      <th>Survived</th>\n",
              "      <th>Pclass</th>\n",
              "      <th>Age</th>\n",
              "      <th>SibSp</th>\n",
              "      <th>Parch</th>\n",
              "      <th>Fare</th>\n",
              "    </tr>\n",
              "  </thead>\n",
              "  <tbody>\n",
              "    <tr>\n",
              "      <th>count</th>\n",
              "      <td>891.000000</td>\n",
              "      <td>891.000000</td>\n",
              "      <td>891.000000</td>\n",
              "      <td>714.000000</td>\n",
              "      <td>891.000000</td>\n",
              "      <td>891.000000</td>\n",
              "      <td>891.000000</td>\n",
              "    </tr>\n",
              "    <tr>\n",
              "      <th>mean</th>\n",
              "      <td>446.000000</td>\n",
              "      <td>0.383838</td>\n",
              "      <td>2.308642</td>\n",
              "      <td>29.699118</td>\n",
              "      <td>0.523008</td>\n",
              "      <td>0.381594</td>\n",
              "      <td>32.204208</td>\n",
              "    </tr>\n",
              "    <tr>\n",
              "      <th>std</th>\n",
              "      <td>257.353842</td>\n",
              "      <td>0.486592</td>\n",
              "      <td>0.836071</td>\n",
              "      <td>14.526497</td>\n",
              "      <td>1.102743</td>\n",
              "      <td>0.806057</td>\n",
              "      <td>49.693429</td>\n",
              "    </tr>\n",
              "    <tr>\n",
              "      <th>min</th>\n",
              "      <td>1.000000</td>\n",
              "      <td>0.000000</td>\n",
              "      <td>1.000000</td>\n",
              "      <td>0.420000</td>\n",
              "      <td>0.000000</td>\n",
              "      <td>0.000000</td>\n",
              "      <td>0.000000</td>\n",
              "    </tr>\n",
              "    <tr>\n",
              "      <th>25%</th>\n",
              "      <td>223.500000</td>\n",
              "      <td>0.000000</td>\n",
              "      <td>2.000000</td>\n",
              "      <td>20.125000</td>\n",
              "      <td>0.000000</td>\n",
              "      <td>0.000000</td>\n",
              "      <td>7.910400</td>\n",
              "    </tr>\n",
              "    <tr>\n",
              "      <th>50%</th>\n",
              "      <td>446.000000</td>\n",
              "      <td>0.000000</td>\n",
              "      <td>3.000000</td>\n",
              "      <td>28.000000</td>\n",
              "      <td>0.000000</td>\n",
              "      <td>0.000000</td>\n",
              "      <td>14.454200</td>\n",
              "    </tr>\n",
              "    <tr>\n",
              "      <th>75%</th>\n",
              "      <td>668.500000</td>\n",
              "      <td>1.000000</td>\n",
              "      <td>3.000000</td>\n",
              "      <td>38.000000</td>\n",
              "      <td>1.000000</td>\n",
              "      <td>0.000000</td>\n",
              "      <td>31.000000</td>\n",
              "    </tr>\n",
              "    <tr>\n",
              "      <th>max</th>\n",
              "      <td>891.000000</td>\n",
              "      <td>1.000000</td>\n",
              "      <td>3.000000</td>\n",
              "      <td>80.000000</td>\n",
              "      <td>8.000000</td>\n",
              "      <td>6.000000</td>\n",
              "      <td>512.329200</td>\n",
              "    </tr>\n",
              "  </tbody>\n",
              "</table>\n",
              "</div>\n",
              "      <button class=\"colab-df-convert\" onclick=\"convertToInteractive('df-a0752e23-707d-4376-bc7e-ea608ed8b1ef')\"\n",
              "              title=\"Convert this dataframe to an interactive table.\"\n",
              "              style=\"display:none;\">\n",
              "        \n",
              "  <svg xmlns=\"http://www.w3.org/2000/svg\" height=\"24px\"viewBox=\"0 0 24 24\"\n",
              "       width=\"24px\">\n",
              "    <path d=\"M0 0h24v24H0V0z\" fill=\"none\"/>\n",
              "    <path d=\"M18.56 5.44l.94 2.06.94-2.06 2.06-.94-2.06-.94-.94-2.06-.94 2.06-2.06.94zm-11 1L8.5 8.5l.94-2.06 2.06-.94-2.06-.94L8.5 2.5l-.94 2.06-2.06.94zm10 10l.94 2.06.94-2.06 2.06-.94-2.06-.94-.94-2.06-.94 2.06-2.06.94z\"/><path d=\"M17.41 7.96l-1.37-1.37c-.4-.4-.92-.59-1.43-.59-.52 0-1.04.2-1.43.59L10.3 9.45l-7.72 7.72c-.78.78-.78 2.05 0 2.83L4 21.41c.39.39.9.59 1.41.59.51 0 1.02-.2 1.41-.59l7.78-7.78 2.81-2.81c.8-.78.8-2.07 0-2.86zM5.41 20L4 18.59l7.72-7.72 1.47 1.35L5.41 20z\"/>\n",
              "  </svg>\n",
              "      </button>\n",
              "      \n",
              "  <style>\n",
              "    .colab-df-container {\n",
              "      display:flex;\n",
              "      flex-wrap:wrap;\n",
              "      gap: 12px;\n",
              "    }\n",
              "\n",
              "    .colab-df-convert {\n",
              "      background-color: #E8F0FE;\n",
              "      border: none;\n",
              "      border-radius: 50%;\n",
              "      cursor: pointer;\n",
              "      display: none;\n",
              "      fill: #1967D2;\n",
              "      height: 32px;\n",
              "      padding: 0 0 0 0;\n",
              "      width: 32px;\n",
              "    }\n",
              "\n",
              "    .colab-df-convert:hover {\n",
              "      background-color: #E2EBFA;\n",
              "      box-shadow: 0px 1px 2px rgba(60, 64, 67, 0.3), 0px 1px 3px 1px rgba(60, 64, 67, 0.15);\n",
              "      fill: #174EA6;\n",
              "    }\n",
              "\n",
              "    [theme=dark] .colab-df-convert {\n",
              "      background-color: #3B4455;\n",
              "      fill: #D2E3FC;\n",
              "    }\n",
              "\n",
              "    [theme=dark] .colab-df-convert:hover {\n",
              "      background-color: #434B5C;\n",
              "      box-shadow: 0px 1px 3px 1px rgba(0, 0, 0, 0.15);\n",
              "      filter: drop-shadow(0px 1px 2px rgba(0, 0, 0, 0.3));\n",
              "      fill: #FFFFFF;\n",
              "    }\n",
              "  </style>\n",
              "\n",
              "      <script>\n",
              "        const buttonEl =\n",
              "          document.querySelector('#df-a0752e23-707d-4376-bc7e-ea608ed8b1ef button.colab-df-convert');\n",
              "        buttonEl.style.display =\n",
              "          google.colab.kernel.accessAllowed ? 'block' : 'none';\n",
              "\n",
              "        async function convertToInteractive(key) {\n",
              "          const element = document.querySelector('#df-a0752e23-707d-4376-bc7e-ea608ed8b1ef');\n",
              "          const dataTable =\n",
              "            await google.colab.kernel.invokeFunction('convertToInteractive',\n",
              "                                                     [key], {});\n",
              "          if (!dataTable) return;\n",
              "\n",
              "          const docLinkHtml = 'Like what you see? Visit the ' +\n",
              "            '<a target=\"_blank\" href=https://colab.research.google.com/notebooks/data_table.ipynb>data table notebook</a>'\n",
              "            + ' to learn more about interactive tables.';\n",
              "          element.innerHTML = '';\n",
              "          dataTable['output_type'] = 'display_data';\n",
              "          await google.colab.output.renderOutput(dataTable, element);\n",
              "          const docLink = document.createElement('div');\n",
              "          docLink.innerHTML = docLinkHtml;\n",
              "          element.appendChild(docLink);\n",
              "        }\n",
              "      </script>\n",
              "    </div>\n",
              "  </div>\n",
              "  "
            ]
          },
          "metadata": {},
          "execution_count": 11
        }
      ]
    },
    {
      "cell_type": "code",
      "source": [
        "all_pasenger = df['Survived'].shape[0] # Всего пассажиров\n",
        "all_pasenger"
      ],
      "metadata": {
        "colab": {
          "base_uri": "https://localhost:8080/"
        },
        "id": "SYnqJWIyMntv",
        "outputId": "610c6c35-288b-46c0-e439-c39892bc3298"
      },
      "execution_count": 12,
      "outputs": [
        {
          "output_type": "execute_result",
          "data": {
            "text/plain": [
              "891"
            ]
          },
          "metadata": {},
          "execution_count": 12
        }
      ]
    },
    {
      "cell_type": "code",
      "source": [
        "all_surv = df[df['Survived'] != False].shape[0] # Всего выжевших\n",
        "all_surv"
      ],
      "metadata": {
        "colab": {
          "base_uri": "https://localhost:8080/"
        },
        "id": "RBTvSuy5wAjh",
        "outputId": "e26aa621-6574-4a4c-b8e8-08d0074c58cb"
      },
      "execution_count": 13,
      "outputs": [
        {
          "output_type": "execute_result",
          "data": {
            "text/plain": [
              "342"
            ]
          },
          "metadata": {},
          "execution_count": 13
        }
      ]
    },
    {
      "cell_type": "code",
      "source": [
        "all_surv/all_pasenger * 100 # % выжевших"
      ],
      "metadata": {
        "colab": {
          "base_uri": "https://localhost:8080/"
        },
        "id": "aO6obX-JPvuv",
        "outputId": "bef3cdc9-b786-49ff-915b-eecb411b99a4"
      },
      "execution_count": 14,
      "outputs": [
        {
          "output_type": "execute_result",
          "data": {
            "text/plain": [
              "38.38383838383838"
            ]
          },
          "metadata": {},
          "execution_count": 14
        }
      ]
    },
    {
      "cell_type": "code",
      "source": [
        "pclass_1_surv = df[(df['Survived'] != False) & (df['Pclass'] == 1)].shape[0] # Колличество выживших первого класса\n",
        "pclass_1_surv"
      ],
      "metadata": {
        "colab": {
          "base_uri": "https://localhost:8080/"
        },
        "id": "XXISM-J2Ql4Y",
        "outputId": "422ed5c2-4652-4140-8d43-f8bbfbaa73ce"
      },
      "execution_count": 15,
      "outputs": [
        {
          "output_type": "execute_result",
          "data": {
            "text/plain": [
              "136"
            ]
          },
          "metadata": {},
          "execution_count": 15
        }
      ]
    },
    {
      "cell_type": "code",
      "source": [
        "pclass_2_surv = df[(df['Survived'] != False) & (df['Pclass'] == 2)].shape[0] # Колличество выживших 2 класса\n",
        "pclass_2_surv"
      ],
      "metadata": {
        "colab": {
          "base_uri": "https://localhost:8080/"
        },
        "id": "bsoq4oj2TaUM",
        "outputId": "9fce753f-08c6-4f01-80c5-1b87fdaa73c6"
      },
      "execution_count": 16,
      "outputs": [
        {
          "output_type": "execute_result",
          "data": {
            "text/plain": [
              "87"
            ]
          },
          "metadata": {},
          "execution_count": 16
        }
      ]
    },
    {
      "cell_type": "code",
      "source": [
        "pclass_3_surv = df[(df['Survived'] != False) & (df['Pclass'] == 3)].shape[0] # Колличество выживших 3 класса\n",
        "pclass_3_surv"
      ],
      "metadata": {
        "colab": {
          "base_uri": "https://localhost:8080/"
        },
        "id": "gERy_F_ATgHi",
        "outputId": "601d9883-8673-4675-8e61-9e21608dfccd"
      },
      "execution_count": 17,
      "outputs": [
        {
          "output_type": "execute_result",
          "data": {
            "text/plain": [
              "119"
            ]
          },
          "metadata": {},
          "execution_count": 17
        }
      ]
    },
    {
      "cell_type": "markdown",
      "source": [
        "Козалось бы пассажиры чем выши класс тем больше выживших должно быть, но нет разница выживших между пассажирами первого класса и третьего не большая.\n",
        "Нужно проверить связь между следующими параметрами:\n",
        "* Sex - пол, обычно стараются спости женщин и детей в первую очередь\n",
        "* Age - возрост, до 12, 12-20, 20-30, 30-40, 50 и выше\n",
        "* SibSp - число родственников на борту, чем больше родственников тем сложнее спастись, всем вмести собраться, маральные дилемы\n",
        "* Parch - Количество родителей/детей на борту, мужчины стараются защетить женщин и детей, матеря стораются защетить детей"
      ],
      "metadata": {
        "id": "cbQ2um6EUDA0"
      }
    },
    {
      "cell_type": "markdown",
      "source": [
        "# Разделим выживших разных классов на мужчин женщин"
      ],
      "metadata": {
        "id": "AH1DV4ecXdXZ"
      }
    },
    {
      "cell_type": "code",
      "source": [
        "male_pclass_1_surv = df[(df['Survived'] != False) & (df['Pclass'] == 1) & (df['Sex'] == \"male\")].shape[0] # Колличество выживших первого класса мужчин\n",
        "female_pclass_1_surv = df[(df['Survived'] != False) & (df['Pclass'] == 1) & (df['Sex'] == \"female\")].shape[0] # Колличество выживших первого класса женщин\n",
        "male_pclass_1_surv, female_pclass_1_surv"
      ],
      "metadata": {
        "colab": {
          "base_uri": "https://localhost:8080/"
        },
        "id": "Y6wLATebV_8X",
        "outputId": "ae06e32a-b233-4a10-d299-b8ebf961cc25"
      },
      "execution_count": 18,
      "outputs": [
        {
          "output_type": "execute_result",
          "data": {
            "text/plain": [
              "(45, 91)"
            ]
          },
          "metadata": {},
          "execution_count": 18
        }
      ]
    },
    {
      "cell_type": "code",
      "source": [
        "male_pclass_1_surv = df[(df['Survived'] != False) & (df['Pclass'] == 2) & (df['Sex'] == \"male\")].shape[0] # Колличество выживших 2 класса мужчин\n",
        "female_pclass_1_surv = df[(df['Survived'] != False) & (df['Pclass'] == 2) & (df['Sex'] == \"female\")].shape[0] # Колличество выживших 2 класса женщин\n",
        "male_pclass_1_surv, female_pclass_1_surv"
      ],
      "metadata": {
        "colab": {
          "base_uri": "https://localhost:8080/"
        },
        "id": "i34HDhvPZCFA",
        "outputId": "0726cbde-3acd-4950-ab38-f03d899d7b95"
      },
      "execution_count": 19,
      "outputs": [
        {
          "output_type": "execute_result",
          "data": {
            "text/plain": [
              "(17, 70)"
            ]
          },
          "metadata": {},
          "execution_count": 19
        }
      ]
    },
    {
      "cell_type": "code",
      "source": [
        "male_pclass_1_surv = df[(df['Survived'] != False) & (df['Pclass'] == 3) & (df['Sex'] == \"male\")].shape[0] # Колличество выживших 3 класса мужчин\n",
        "female_pclass_1_surv = df[(df['Survived'] != False) & (df['Pclass'] == 3) & (df['Sex'] == \"female\")].shape[0] # Колличество выживших 3 класса женщин\n",
        "male_pclass_1_surv, female_pclass_1_surv"
      ],
      "metadata": {
        "colab": {
          "base_uri": "https://localhost:8080/"
        },
        "id": "GV0dfSeUZucH",
        "outputId": "ad6d40df-4792-445b-deb4-6d570656e379"
      },
      "execution_count": 20,
      "outputs": [
        {
          "output_type": "execute_result",
          "data": {
            "text/plain": [
              "(47, 72)"
            ]
          },
          "metadata": {},
          "execution_count": 20
        }
      ]
    },
    {
      "cell_type": "markdown",
      "source": [
        "# Мужчины из первого класса по возростным группам"
      ],
      "metadata": {
        "id": "OEKCQYOP2caZ"
      }
    },
    {
      "cell_type": "code",
      "source": [
        "male_all_pclass_1 = df[(df['Pclass'] == 1) & (df['Sex'] == \"male\")].shape[0] # Колличество мужчие из первого класса\n",
        "male_all_pclass_1_surv = df[(df['Survived'] != False) & (df['Pclass'] == 1) & (df['Sex'] == \"male\")].shape[0]\n",
        "\n",
        "male_12_pclass_1 = df[(df['Pclass'] == 1) & (df['Sex'] == \"male\") & (df['Age'] <= 12)].shape[0] # Колличество мужчие до 12 лет из первого класса\n",
        "male_12_pclass_1_surv = df[(df['Survived'] != False) & (df['Pclass'] == 1) & (df['Sex'] == \"male\") & (df['Age'] <= 12)].shape[0] # Колличество выжевших мужчие до 12 лет из первого класса\n",
        "\n",
        "male_12_20_pclass_1 = df[(df['Pclass'] == 1) & (df['Sex'] == \"male\") & ((df['Age'] > 12) & (df['Age'] <= 20))].shape[0]\n",
        "male_12_20_pclass_1_surv = df[(df['Survived'] != False) & (df['Pclass'] == 1) & (df['Sex'] == \"male\") & ((df['Age'] > 12) & (df['Age'] <= 20))].shape[0]\n",
        "\n",
        "male_20_30_pclass_1 = df[(df['Pclass'] == 1) & (df['Sex'] == \"male\") & ((df['Age'] > 20) & (df['Age'] <= 30))].shape[0]\n",
        "male_20_30_pclass_1_surv = df[(df['Survived'] != False) & (df['Pclass'] == 1) & (df['Sex'] == \"male\") & ((df['Age'] > 20) & (df['Age'] <= 30))].shape[0]\n",
        "\n",
        "male_30_40_pclass_1 = df[(df['Pclass'] == 1) & (df['Sex'] == \"male\") & ((df['Age'] > 30) & (df['Age'] <= 40))].shape[0]\n",
        "male_30_40_pclass_1_surv = df[(df['Survived'] != False) & (df['Pclass'] == 1) & (df['Sex'] == \"male\") & ((df['Age'] > 30) & (df['Age'] <= 40))].shape[0]\n",
        "\n",
        "male_40_50_pclass_1 = df[(df['Pclass'] == 1) & (df['Sex'] == \"male\") & ((df['Age'] > 40) & (df['Age'] <= 50))].shape[0]\n",
        "male_40_50_pclass_1_surv = df[(df['Survived'] != False) & (df['Pclass'] == 1) & (df['Sex'] == \"male\") & ((df['Age'] > 40) & (df['Age'] <= 50))].shape[0]\n",
        "\n",
        "male_50__pclass_1 = df[(df['Pclass'] == 1) & (df['Sex'] == \"male\") & (df['Age'] >= 50)].shape[0] # Колличество мужчие до 12 лет из первого класса\n",
        "male_50__pclass_1_surv = df[(df['Survived'] != False) & (df['Pclass'] == 1) & (df['Sex'] == \"male\") & (df['Age'] >= 50)].shape[0] # Колличество выжевших мужчие до 12 лет из первого класса\n",
        "\n",
        "print(\"Всего\", male_all_pclass_1, male_all_pclass_1_surv, male_all_pclass_1_surv/male_all_pclass_1 * 100, \"%\", '\\n',\n",
        "      \"до 12 лет\", male_12_pclass_1, male_12_pclass_1_surv, male_12_pclass_1_surv/male_12_pclass_1 * 100, \"%\",'\\n',\n",
        "      \"12 - 20 лет\", male_12_20_pclass_1, male_12_20_pclass_1_surv, male_12_20_pclass_1_surv/male_12_20_pclass_1 * 100, \"%\", '\\n',\n",
        "      \"20 - 30 лет\", male_20_30_pclass_1, male_20_30_pclass_1_surv, male_20_30_pclass_1_surv/male_20_30_pclass_1 * 100, \"%\", '\\n',\n",
        "      \"30 - 40 лет\", male_30_40_pclass_1, male_30_40_pclass_1_surv, male_30_40_pclass_1_surv/male_30_40_pclass_1 * 100, \"%\", '\\n',\n",
        "      \"40 - 50 лет\", male_40_50_pclass_1, male_40_50_pclass_1_surv, male_40_50_pclass_1_surv/male_40_50_pclass_1 * 100, \"%\", '\\n',\n",
        "      \"50 лет и старше\", male_50__pclass_1, male_50__pclass_1_surv, male_50__pclass_1_surv/male_50__pclass_1 *100, \"%\")"
      ],
      "metadata": {
        "colab": {
          "base_uri": "https://localhost:8080/"
        },
        "id": "Zgh_bWD02yT0",
        "outputId": "b62c502b-1bc4-4c55-b433-c0b269a54234"
      },
      "execution_count": 21,
      "outputs": [
        {
          "output_type": "stream",
          "name": "stdout",
          "text": [
            "Всего 122 45 36.885245901639344 % \n",
            " до 12 лет 3 3 100.0 % \n",
            " 12 - 20 лет 4 1 25.0 % \n",
            " 20 - 30 лет 19 9 47.368421052631575 % \n",
            " 30 - 40 лет 25 13 52.0 % \n",
            " 40 - 50 лет 24 9 37.5 % \n",
            " 50 лет и старше 29 6 20.689655172413794 %\n"
          ]
        }
      ]
    },
    {
      "cell_type": "markdown",
      "source": [
        "# # Мужчины из 2 класса по возростным группам"
      ],
      "metadata": {
        "id": "Q2_SfGtY_fE4"
      }
    },
    {
      "cell_type": "code",
      "source": [
        "male_all_pclass_2 = df[(df['Pclass'] == 2) & (df['Sex'] == \"male\")].shape[0] # Колличество мужчие из первого класса\n",
        "male_all_pclass_2_surv = df[(df['Survived'] != False) & (df['Pclass'] == 2) & (df['Sex'] == \"male\")].shape[0]\n",
        "\n",
        "male__12_pclass_2 = df[(df['Pclass'] == 2) & (df['Sex'] == \"male\") & (df['Age'] <= 12)].shape[0] # Колличество мужчие до 12 лет из первого класса\n",
        "male__12_pclass_2_surv = df[(df['Survived'] != False) & (df['Pclass'] == 2) & (df['Sex'] == \"male\") & (df['Age'] <= 12)].shape[0] # Колличество выжевших мужчие до 12 лет из первого класса\n",
        "\n",
        "male_12_20_pclass_2 = df[(df['Pclass'] == 2) & (df['Sex'] == \"male\") & ((df['Age'] > 12) & (df['Age'] <= 20))].shape[0]\n",
        "male_12_20_pclass_2_surv = df[(df['Survived'] != False) & (df['Pclass'] == 2) & (df['Sex'] == \"male\") & ((df['Age'] > 12) & (df['Age'] <= 20))].shape[0]\n",
        "\n",
        "male_20_30_pclass_2 = df[(df['Pclass'] == 2) & (df['Sex'] == \"male\") & ((df['Age'] > 20) & (df['Age'] <= 30))].shape[0]\n",
        "male_20_30_pclass_2_surv = df[(df['Survived'] != False) & (df['Pclass'] == 2) & (df['Sex'] == \"male\") & ((df['Age'] > 20) & (df['Age'] <= 30))].shape[0]\n",
        "\n",
        "male_30_40_pclass_2 = df[(df['Pclass'] == 2) & (df['Sex'] == \"male\") & ((df['Age'] > 30) & (df['Age'] <= 40))].shape[0]\n",
        "male_30_40_pclass_2_surv = df[(df['Survived'] != False) & (df['Pclass'] == 2) & (df['Sex'] == \"male\") & ((df['Age'] > 30) & (df['Age'] <= 40))].shape[0]\n",
        "\n",
        "male_40_50_pclass_2 = df[(df['Pclass'] == 2) & (df['Sex'] == \"male\") & ((df['Age'] > 40) & (df['Age'] <= 50))].shape[0]\n",
        "male_40_50_pclass_2_surv = df[(df['Survived'] != False) & (df['Pclass'] == 2) & (df['Sex'] == \"male\") & ((df['Age'] > 40) & (df['Age'] <= 50))].shape[0]\n",
        "\n",
        "male_50__pclass_2 = df[(df['Pclass'] == 2) & (df['Sex'] == \"male\") & (df['Age'] >= 50)].shape[0] # Колличество мужчие до 12 лет из первого класса\n",
        "male_50__pclass_2_surv = df[(df['Survived'] != False) & (df['Pclass'] == 2) & (df['Sex'] == \"male\") & (df['Age'] >= 50)].shape[0] # Колличество выжевших мужчие до 12 лет из первого класса\n",
        "\n",
        "print(\"Всего\", male_all_pclass_2, male_all_pclass_2_surv, male_all_pclass_2_surv/male_all_pclass_2 * 100, \"%\", '\\n',\n",
        "      \n",
        "      \"до 12 лет\", male__12_pclass_2, male__12_pclass_2_surv, male__12_pclass_2_surv/male__12_pclass_2 * 100, \"%\", '\\n',\n",
        "\n",
        "      \"20 - 30 лет\", male_20_30_pclass_2, male_20_30_pclass_2_surv, male_20_30_pclass_2_surv/male_20_30_pclass_2 * 100, \"%\", '\\n',\n",
        "\n",
        "      \"30 - 40 лет\", male_30_40_pclass_2, male_30_40_pclass_2_surv, male_30_40_pclass_2_surv/male_30_40_pclass_2 * 100, \"%\", '\\n',\n",
        "\n",
        "      \"40 - 50 лет\", male_40_50_pclass_2, male_40_50_pclass_2_surv, male_40_50_pclass_2_surv/male_40_50_pclass_2 * 100, \"%\", '\\n',\n",
        "      \n",
        "      \"50 лет и старше\", male_50__pclass_2, male_50__pclass_2_surv, male_50__pclass_2_surv/male_50__pclass_2 *100, \"%\")"
      ],
      "metadata": {
        "colab": {
          "base_uri": "https://localhost:8080/"
        },
        "id": "5j69qaAF_rVh",
        "outputId": "b55c20b7-8d4d-4c24-a7e2-ffef4a3ff82a"
      },
      "execution_count": 22,
      "outputs": [
        {
          "output_type": "stream",
          "name": "stdout",
          "text": [
            "Всего 108 17 15.74074074074074 % \n",
            " до 12 лет 9 9 100.0 % \n",
            " 20 - 30 лет 33 0 0.0 % \n",
            " 30 - 40 лет 26 3 11.538461538461538 % \n",
            " 40 - 50 лет 9 1 11.11111111111111 % \n",
            " 50 лет и старше 13 1 7.6923076923076925 %\n"
          ]
        }
      ]
    },
    {
      "cell_type": "markdown",
      "source": [
        "# Мужчины из 3 класса по возростным группам"
      ],
      "metadata": {
        "id": "bJoD-D_SJBJY"
      }
    },
    {
      "cell_type": "code",
      "source": [
        "male_all_pclass_3 = df[(df['Pclass'] == 3) & (df['Sex'] == \"male\")].shape[0] # Колличество мужчие из первого класса\n",
        "male_all_pclass_3_surv = df[(df['Survived'] != False) & (df['Pclass'] == 3) & (df['Sex'] == \"male\")].shape[0]\n",
        "\n",
        "male__12_pclass_3 = df[(df['Pclass'] == 3) & (df['Sex'] == \"male\") & (df['Age'] <= 12)].shape[0] # Колличество мужчие до 12 лет из первого класса\n",
        "male__12_pclass_3_surv = df[(df['Survived'] != False) & (df['Pclass'] == 3) & (df['Sex'] == \"male\") & (df['Age'] <= 12)].shape[0] # Колличество выжевших мужчие до 12 лет из первого класса\n",
        "\n",
        "male_12_20_pclass_3 = df[(df['Pclass'] == 3) & (df['Sex'] == \"male\") & ((df['Age'] > 12) & (df['Age'] <= 20))].shape[0]\n",
        "male_12_20_pclass_3_surv = df[(df['Survived'] != False) & (df['Pclass'] == 3) & (df['Sex'] == \"male\") & ((df['Age'] > 12) & (df['Age'] <= 20))].shape[0]\n",
        "\n",
        "male_20_30_pclass_3 = df[(df['Pclass'] == 3) & (df['Sex'] == \"male\") & ((df['Age'] > 20) & (df['Age'] <= 30))].shape[0]\n",
        "male_20_30_pclass_3_surv = df[(df['Survived'] != False) & (df['Pclass'] == 3) & (df['Sex'] == \"male\") & ((df['Age'] > 20) & (df['Age'] <= 30))].shape[0]\n",
        "\n",
        "male_30_40_pclass_3 = df[(df['Pclass'] == 3) & (df['Sex'] == \"male\") & ((df['Age'] > 30) & (df['Age'] <= 40))].shape[0]\n",
        "male_30_40_pclass_3_surv = df[(df['Survived'] != False) & (df['Pclass'] == 3) & (df['Sex'] == \"male\") & ((df['Age'] > 30) & (df['Age'] <= 40))].shape[0]\n",
        "\n",
        "male_40_50_pclass_3 = df[(df['Pclass'] == 3) & (df['Sex'] == \"male\") & ((df['Age'] > 40) & (df['Age'] <= 50))].shape[0]\n",
        "male_40_50_pclass_3_surv = df[(df['Survived'] != False) & (df['Pclass'] == 3) & (df['Sex'] == \"male\") & ((df['Age'] > 40) & (df['Age'] <= 50))].shape[0]\n",
        "\n",
        "male_50__pclass_3 = df[(df['Pclass'] == 3) & (df['Sex'] == \"male\") & (df['Age'] >= 50)].shape[0] # Колличество мужчие до 12 лет из первого класса\n",
        "male_50__pclass_3_surv = df[(df['Survived'] != False) & (df['Pclass'] == 3) & (df['Sex'] == \"male\") & (df['Age'] >= 50)].shape[0] # Колличество выжевших мужчие до 12 лет из первого класса\n",
        "\n",
        "print(\"Всего\", male_all_pclass_3, male_all_pclass_3_surv, male_all_pclass_3_surv/male_all_pclass_3 * 100, \"%\", '\\n',\n",
        "      \n",
        "      \"до 12 лет\", male__12_pclass_3, male__12_pclass_3_surv, male__12_pclass_3_surv/male__12_pclass_3 * 100, \"%\", '\\n',\n",
        "\n",
        "      \"20 - 30 лет\", male_20_30_pclass_3, male_20_30_pclass_3_surv, male_20_30_pclass_3_surv/male_20_30_pclass_3 * 100, \"%\", '\\n',\n",
        "\n",
        "      \"30 - 40 лет\", male_30_40_pclass_3, male_30_40_pclass_3_surv, male_30_40_pclass_3_surv/male_30_40_pclass_3 * 100, \"%\", '\\n',\n",
        "\n",
        "      \"40 - 50 лет\", male_40_50_pclass_3, male_40_50_pclass_3_surv, male_40_50_pclass_3_surv/male_40_50_pclass_3 * 100, \"%\", '\\n',\n",
        "      \n",
        "      \"50 лет и старше\", male_50__pclass_3, male_50__pclass_3_surv, male_50__pclass_3_surv/male_50__pclass_3 *100, \"%\")"
      ],
      "metadata": {
        "colab": {
          "base_uri": "https://localhost:8080/"
        },
        "id": "d97Me5cOJDNR",
        "outputId": "67185190-8e7e-4711-b608-58fa63c278f0"
      },
      "execution_count": 23,
      "outputs": [
        {
          "output_type": "stream",
          "name": "stdout",
          "text": [
            "Всего 347 47 13.544668587896252 % \n",
            " до 12 лет 25 9 36.0 % \n",
            " 20 - 30 лет 97 14 14.432989690721648 % \n",
            " 30 - 40 лет 49 7 14.285714285714285 % \n",
            " 40 - 50 лет 22 2 9.090909090909092 % \n",
            " 50 лет и старше 10 0 0.0 %\n"
          ]
        }
      ]
    },
    {
      "cell_type": "markdown",
      "source": [
        "# Женщины из первого класса по возростным группам"
      ],
      "metadata": {
        "id": "2gPvzn4FKnqu"
      }
    },
    {
      "cell_type": "code",
      "source": [
        "female_all_pclass_1 = df[(df['Pclass'] == 1) & (df['Sex'] == \"female\")].shape[0] # Колличество мужчие из первого класса\n",
        "female_all_pclass_1_surv = df[(df['Survived'] != False) & (df['Pclass'] == 1) & (df['Sex'] == \"female\")].shape[0]\n",
        "\n",
        "female__12_pclass_1 = df[(df['Pclass'] == 1) & (df['Sex'] == \"female\") & (df['Age'] <= 12)].shape[0] # Колличество мужчие до 12 лет из первого класса\n",
        "female__12_pclass_1_surv = df[(df['Survived'] != False) & (df['Pclass'] == 1) & (df['Sex'] == \"female\") & (df['Age'] <= 12)].shape[0] # Колличество выжевших мужчие до 12 лет из первого класса\n",
        "\n",
        "female_12_20_pclass_1 = df[(df['Pclass'] == 1) & (df['Sex'] == \"female\") & ((df['Age'] > 12) & (df['Age'] <= 20))].shape[0]\n",
        "female_12_20_pclass_1_surv = df[(df['Survived'] != False) & (df['Pclass'] == 1) & (df['Sex'] == \"female\") & ((df['Age'] > 12) & (df['Age'] <= 20))].shape[0]\n",
        "\n",
        "female_20_30_pclass_1 = df[(df['Pclass'] == 1) & (df['Sex'] == \"female\") & ((df['Age'] > 20) & (df['Age'] <= 30))].shape[0]\n",
        "female_20_30_pclass_1_surv = df[(df['Survived'] != False) & (df['Pclass'] == 1) & (df['Sex'] == \"female\") & ((df['Age'] > 20) & (df['Age'] <= 30))].shape[0]\n",
        "\n",
        "female_30_40_pclass_1 = df[(df['Pclass'] == 1) & (df['Sex'] == \"female\") & ((df['Age'] > 30) & (df['Age'] <= 40))].shape[0]\n",
        "female_30_40_pclass_1_surv = df[(df['Survived'] != False) & (df['Pclass'] == 1) & (df['Sex'] == \"female\") & ((df['Age'] > 30) & (df['Age'] <= 40))].shape[0]\n",
        "\n",
        "female_40_50_pclass_1 = df[(df['Pclass'] == 1) & (df['Sex'] == \"female\") & ((df['Age'] > 40) & (df['Age'] <= 50))].shape[0]\n",
        "female_40_50_pclass_1_surv = df[(df['Survived'] != False) & (df['Pclass'] == 1) & (df['Sex'] == \"female\") & ((df['Age'] > 40) & (df['Age'] <= 50))].shape[0]\n",
        "\n",
        "female_50__pclass_1 = df[(df['Pclass'] == 1) & (df['Sex'] == \"female\") & (df['Age'] >= 50)].shape[0] # Колличество мужчие до 12 лет из первого класса\n",
        "female_50__pclass_1_surv = df[(df['Survived'] != False) & (df['Pclass'] == 1) & (df['Sex'] == \"female\") & (df['Age'] >= 50)].shape[0] # Колличество выжевших мужчие до 12 лет из первого класса\n",
        "\n",
        "print(\"Всего\", female_all_pclass_1, female_all_pclass_1_surv, female_all_pclass_1_surv/female_all_pclass_1 * 100, \"%\", '\\n',\n",
        "      \"до 12 лет\", female__12_pclass_1, female__12_pclass_1_surv, female__12_pclass_1_surv/female__12_pclass_1 * 100, \"%\",'\\n',\n",
        "      \"12 - 20 лет\", female_12_20_pclass_1, female_12_20_pclass_1_surv, female_12_20_pclass_1_surv/female_12_20_pclass_1 * 100, \"%\", '\\n',\n",
        "      \"20 - 30 лет\", female_20_30_pclass_1, female_20_30_pclass_1_surv, female_20_30_pclass_1_surv/female_20_30_pclass_1 * 100, \"%\", '\\n',\n",
        "      \"30 - 40 лет\", female_30_40_pclass_1, female_30_40_pclass_1_surv, female_30_40_pclass_1_surv/female_30_40_pclass_1 * 100, \"%\", '\\n',\n",
        "      \"40 - 50 лет\", female_40_50_pclass_1, female_40_50_pclass_1_surv, female_40_50_pclass_1_surv/female_40_50_pclass_1 * 100, \"%\", '\\n',\n",
        "      \"50 лет и старше\", female_50__pclass_1, female_50__pclass_1_surv, female_50__pclass_1_surv/female_50__pclass_1 *100, \"%\")"
      ],
      "metadata": {
        "colab": {
          "base_uri": "https://localhost:8080/"
        },
        "id": "Lhx9lWO9Ks25",
        "outputId": "064b3196-483b-46e5-a63d-ef754855a478"
      },
      "execution_count": 24,
      "outputs": [
        {
          "output_type": "stream",
          "name": "stdout",
          "text": [
            "Всего 94 91 96.80851063829788 % \n",
            " до 12 лет 1 0 0.0 % \n",
            " 12 - 20 лет 13 13 100.0 % \n",
            " 20 - 30 лет 21 20 95.23809523809523 % \n",
            " 30 - 40 лет 24 24 100.0 % \n",
            " 40 - 50 лет 13 12 92.3076923076923 % \n",
            " 50 лет и старше 15 14 93.33333333333333 %\n"
          ]
        }
      ]
    },
    {
      "cell_type": "markdown",
      "source": [
        "# Женщины из 2 класса по возростным группам"
      ],
      "metadata": {
        "id": "9yy0wGveMXJk"
      }
    },
    {
      "cell_type": "code",
      "source": [
        "female_all_pclass_2 = df[(df['Pclass'] == 2) & (df['Sex'] == \"female\")].shape[0] # Колличество мужчие из первого класса\n",
        "female_all_pclass_2_surv = df[(df['Survived'] != False) & (df['Pclass'] == 2) & (df['Sex'] == \"female\")].shape[0]\n",
        "\n",
        "female__12_pclass_2 = df[(df['Pclass'] == 2) & (df['Sex'] == \"female\") & (df['Age'] <= 12)].shape[0] # Колличество мужчие до 12 лет из первого класса\n",
        "female__12_pclass_2_surv = df[(df['Survived'] != False) & (df['Pclass'] == 2) & (df['Sex'] == \"female\") & (df['Age'] <= 12)].shape[0] # Колличество выжевших мужчие до 12 лет из первого класса\n",
        "\n",
        "female_12_20_pclass_2 = df[(df['Pclass'] == 2) & (df['Sex'] == \"female\") & ((df['Age'] > 12) & (df['Age'] <= 20))].shape[0]\n",
        "female_12_20_pclass_2_surv = df[(df['Survived'] != False) & (df['Pclass'] == 2) & (df['Sex'] == \"female\") & ((df['Age'] > 12) & (df['Age'] <= 20))].shape[0]\n",
        "\n",
        "female_20_30_pclass_2 = df[(df['Pclass'] == 2) & (df['Sex'] == \"female\") & ((df['Age'] > 20) & (df['Age'] <= 30))].shape[0]\n",
        "female_20_30_pclass_2_surv = df[(df['Survived'] != False) & (df['Pclass'] == 2) & (df['Sex'] == \"female\") & ((df['Age'] > 20) & (df['Age'] <= 30))].shape[0]\n",
        "\n",
        "female_30_40_pclass_2 = df[(df['Pclass'] == 2) & (df['Sex'] == \"female\") & ((df['Age'] > 30) & (df['Age'] <= 40))].shape[0]\n",
        "female_30_40_pclass_2_surv = df[(df['Survived'] != False) & (df['Pclass'] == 2) & (df['Sex'] == \"female\") & ((df['Age'] > 30) & (df['Age'] <= 40))].shape[0]\n",
        "\n",
        "female_40_50_pclass_2 = df[(df['Pclass'] == 2) & (df['Sex'] == \"female\") & ((df['Age'] > 40) & (df['Age'] <= 50))].shape[0]\n",
        "female_40_50_pclass_2_surv = df[(df['Survived'] != False) & (df['Pclass'] == 2) & (df['Sex'] == \"female\") & ((df['Age'] > 40) & (df['Age'] <= 50))].shape[0]\n",
        "\n",
        "female_50__pclass_2 = df[(df['Pclass'] == 2) & (df['Sex'] == \"female\") & (df['Age'] >= 50)].shape[0] # Колличество мужчие до 12 лет из первого класса\n",
        "female_50__pclass_2_surv = df[(df['Survived'] != False) & (df['Pclass'] == 2) & (df['Sex'] == \"female\") & (df['Age'] >= 50)].shape[0] # Колличество выжевших мужчие до 12 лет из первого класса\n",
        "\n",
        "print(\"Всего\", female_all_pclass_2, female_all_pclass_2_surv, female_all_pclass_2_surv/female_all_pclass_2 * 100, \"%\", '\\n',\n",
        "      \n",
        "      \"до 12 лет\", female__12_pclass_2, female__12_pclass_2_surv, female__12_pclass_2_surv/female__12_pclass_2 * 100, \"%\", '\\n',\n",
        "\n",
        "      \"20 - 30 лет\", female_20_30_pclass_2, female_20_30_pclass_2_surv, female_20_30_pclass_2_surv/female_20_30_pclass_2 * 100, \"%\", '\\n',\n",
        "\n",
        "      \"30 - 40 лет\", female_30_40_pclass_2, female_30_40_pclass_2_surv, female_30_40_pclass_2_surv/female_30_40_pclass_2 * 100, \"%\", '\\n',\n",
        "\n",
        "      \"40 - 50 лет\", female_40_50_pclass_2, female_40_50_pclass_2_surv, female_40_50_pclass_2_surv/female_40_50_pclass_2 * 100, \"%\", '\\n',\n",
        "      \n",
        "      \"50 лет и старше\", female_50__pclass_2, female_50__pclass_2_surv, female_50__pclass_2_surv/female_50__pclass_2 *100, \"%\")"
      ],
      "metadata": {
        "colab": {
          "base_uri": "https://localhost:8080/"
        },
        "id": "m1ioWkvmMbUq",
        "outputId": "aa58f9e3-0911-49a5-fcdd-1f884146063b"
      },
      "execution_count": 25,
      "outputs": [
        {
          "output_type": "stream",
          "name": "stdout",
          "text": [
            "Всего 76 70 92.10526315789474 % \n",
            " до 12 лет 8 8 100.0 % \n",
            " 20 - 30 лет 28 25 89.28571428571429 % \n",
            " 30 - 40 лет 17 16 94.11764705882352 % \n",
            " 40 - 50 лет 10 9 90.0 % \n",
            " 50 лет и старше 6 5 83.33333333333334 %\n"
          ]
        }
      ]
    },
    {
      "cell_type": "markdown",
      "source": [
        "# Женщины из 3 класса по возростным группам"
      ],
      "metadata": {
        "id": "7x4fAIZuNpuC"
      }
    },
    {
      "cell_type": "code",
      "source": [
        "female_all_pclass_3 = df[(df['Pclass'] == 3) & (df['Sex'] == \"female\")].shape[0] # Колличество мужчие из первого класса\n",
        "female_all_pclass_3_surv = df[(df['Survived'] != False) & (df['Pclass'] == 3) & (df['Sex'] == \"female\")].shape[0]\n",
        "\n",
        "female__12_pclass_3 = df[(df['Pclass'] == 3) & (df['Sex'] == \"female\") & (df['Age'] <= 12)].shape[0] # Колличество мужчие до 12 лет из первого класса\n",
        "female__12_pclass_3_surv = df[(df['Survived'] != False) & (df['Pclass'] == 3) & (df['Sex'] == \"female\") & (df['Age'] <= 12)].shape[0] # Колличество выжевших мужчие до 12 лет из первого класса\n",
        "\n",
        "female_12_20_pclass_3 = df[(df['Pclass'] == 3) & (df['Sex'] == \"female\") & ((df['Age'] > 12) & (df['Age'] <= 20))].shape[0]\n",
        "female_12_20_pclass_3_surv = df[(df['Survived'] != False) & (df['Pclass'] == 3) & (df['Sex'] == \"female\") & ((df['Age'] > 12) & (df['Age'] <= 20))].shape[0]\n",
        "\n",
        "female_20_30_pclass_3 = df[(df['Pclass'] == 3) & (df['Sex'] == \"female\") & ((df['Age'] > 20) & (df['Age'] <= 30))].shape[0]\n",
        "female_20_30_pclass_3_surv = df[(df['Survived'] != False) & (df['Pclass'] == 3) & (df['Sex'] == \"female\") & ((df['Age'] > 20) & (df['Age'] <= 30))].shape[0]\n",
        "\n",
        "female_30_40_pclass_3 = df[(df['Pclass'] == 3) & (df['Sex'] == \"female\") & ((df['Age'] > 30) & (df['Age'] <= 40))].shape[0]\n",
        "female_30_40_pclass_3_surv = df[(df['Survived'] != False) & (df['Pclass'] == 3) & (df['Sex'] == \"female\") & ((df['Age'] > 30) & (df['Age'] <= 40))].shape[0]\n",
        "\n",
        "female_40_50_pclass_3 = df[(df['Pclass'] == 3) & (df['Sex'] == \"female\") & ((df['Age'] > 40) & (df['Age'] <= 50))].shape[0]\n",
        "female_40_50_pclass_3_surv = df[(df['Survived'] != False) & (df['Pclass'] == 3) & (df['Sex'] == \"female\") & ((df['Age'] > 40) & (df['Age'] <= 50))].shape[0]\n",
        "\n",
        "female_50__pclass_3 = df[(df['Pclass'] == 3) & (df['Sex'] == \"female\") & (df['Age'] >= 50)].shape[0] # Колличество мужчие до 12 лет из первого класса\n",
        "female_50__pclass_3_surv = df[(df['Survived'] != False) & (df['Pclass'] == 3) & (df['Sex'] == \"female\") & (df['Age'] >= 50)].shape[0] # Колличество выжевших мужчие до 12 лет из первого класса\n",
        "\n",
        "print(\"Всего\", female_all_pclass_3, female_all_pclass_3_surv, female_all_pclass_3_surv/female_all_pclass_3 * 100, \"%\", '\\n',\n",
        "      \n",
        "      \"до 12 лет\", female__12_pclass_3, female__12_pclass_3_surv, female__12_pclass_3_surv/female__12_pclass_3 * 100, \"%\", '\\n',\n",
        "\n",
        "      \"20 - 30 лет\", female_20_30_pclass_3, female_20_30_pclass_3_surv, female_20_30_pclass_3_surv/female_20_30_pclass_3 * 100, \"%\", '\\n',\n",
        "\n",
        "      \"30 - 40 лет\", female_30_40_pclass_3, female_30_40_pclass_3_surv, female_30_40_pclass_3_surv/female_30_40_pclass_3 * 100, \"%\", '\\n',\n",
        "\n",
        "      \"40 - 50 лет\", female_40_50_pclass_3, female_40_50_pclass_3_surv, female_40_50_pclass_3_surv/female_40_50_pclass_3 * 100, \"%\", '\\n',\n",
        "      \n",
        "      \"50 лет и старше\", female_50__pclass_3, female_50__pclass_3_surv, female_50__pclass_3_surv/female_50__pclass_3 *100, \"%\")"
      ],
      "metadata": {
        "colab": {
          "base_uri": "https://localhost:8080/"
        },
        "id": "6EYSyxKmNuUG",
        "outputId": "4b1d3f89-7cb0-465f-b204-6f67e892fc8b"
      },
      "execution_count": 26,
      "outputs": [
        {
          "output_type": "stream",
          "name": "stdout",
          "text": [
            "Всего 144 72 50.0 % \n",
            " до 12 лет 23 11 47.82608695652174 % \n",
            " 20 - 30 лет 32 16 50.0 % \n",
            " 30 - 40 лет 14 6 42.857142857142854 % \n",
            " 40 - 50 лет 8 0 0.0 % \n",
            " 50 лет и старше 1 1 100.0 %\n"
          ]
        }
      ]
    },
    {
      "cell_type": "markdown",
      "source": [
        "# Обобщение\n",
        "* 90-100% выжило женщин из первого и второго класса в любых возрастных группах\n",
        "* 50% выжело женщин из 3 класса всех возростных групп \n",
        "## Мужчины из первого класса выжело 36.885% \n",
        "* до 12 лет 100.0 % \n",
        "* 12 - 20 лет 25.0 % \n",
        "* 20 - 30 лет 47.368 % \n",
        "* 30 - 40 лет 52.0 % \n",
        "* 40 - 50 лет 37.5 % \n",
        "* 50 лет и старше 20.69%\n",
        "## Мужчины из 2 класса выжело 92.11% \n",
        "* до 12 лет 100.0 % \n",
        "* 20 - 30 лет 89.3 % \n",
        "* 30 - 40 лет 94.12 % \n",
        "* 40 - 50 лет 90.0 % \n",
        "* 50 лет и старше 83.33 %\n",
        "## Мужчины из 3 класса выжело 13.54 % \n",
        "* до 12 лет 36.0 % \n",
        "* 20 - 30 лет 14.43 % \n",
        "* 30 - 40 лет 14.29 % \n",
        "* 40 - 50 лет 9.09 % \n",
        "* 50 лет и старше 0.0 %"
      ],
      "metadata": {
        "id": "VhesC28oeXXo"
      }
    },
    {
      "cell_type": "markdown",
      "source": [
        "# Вывод\n",
        "## 1 место по выживаймости:\n",
        "Выживаймость женщин и дете до 12 лет из 1 и 2 класса выше всего. Связано это с более благоприятными условиями чем в 3 классе и воспитанием. Женщин и детей спасают в первую очередь.\n",
        "## 2 место по выживаймости:\n",
        "Это мужчины из 2 класса так же из всех возростных групп. Думаю это связано с более высоким уровнем здоровья, лучше физическое и эмоциональное состояние в стрессовой ситуации. Все это в сравнении с мужчинами из 1 класса\n",
        "## 3 место по выживаймости:\n",
        "Женщины из 3 класса. Культура спосения женщин и детей так же присутствует, но доступность путей спасения ниже.\n",
        "## 3 место по выживаймости:\n",
        "Мужчины из 3 класса. Детей даже до 12лет этой категории спаслось меньше всего. Доступнасть спасения низкая, уровень культуры, паника.\n",
        "## Интересное моменты\n",
        "Судя по уровню выживаймости и если допустить связь с уровнем здоровья можно предположить что продуктивная жизнь мужчин из первого класса наченается в возросте 20 лет более позднее взрасление в сравнении с пассажирами из 2 класса и до 40 лет дальше происходит спад.\n",
        "Мужчины из 2 класса демонстрируют самый продуктивный уровень жизни во всех возростах. Связано это с высокой физической активностью и достаточным уровнем жизни без свободного доступа к излишиствам.\n",
        "\n",
        "Вот такие мысли."
      ],
      "metadata": {
        "id": "BbjdSN_sigxu"
      }
    }
  ]
}